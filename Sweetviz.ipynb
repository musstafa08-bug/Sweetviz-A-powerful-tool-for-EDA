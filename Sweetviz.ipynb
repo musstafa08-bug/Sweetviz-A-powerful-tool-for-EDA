{
 "cells": [
  {
   "cell_type": "markdown",
   "metadata": {},
   "source": [
    "# Sweetviz:\n",
    "It is a great open source tool for EDA. It generates high-density beautiful visualizations with a single line of code.<br> \n",
    "\n",
    "Sweetiviz quickly visualize <b>target values</b> and <b> comparing datasets</b> of train vs test data.<br>\n",
    "\n",
    "It also allows numerical analysis like:<br>\n",
    "min/max/range, quartiles, mean, mode, standard deviation, sum, median absolute deviation, coefficient of variation, kurtosis, skewness.<br>\n",
    "\n",
    "This is mainly used to creating reports."
   ]
  },
  {
   "cell_type": "markdown",
   "metadata": {},
   "source": [
    "## Installation:\n",
    "\n",
    "### Step 1: Open command prompt<br>\n",
    "### Step 2: Run the following command:<br>\n",
    "## </t>pip install sweetviz"
   ]
  },
  {
   "cell_type": "code",
   "execution_count": 32,
   "metadata": {},
   "outputs": [],
   "source": [
    "import sweetviz as sv\n",
    "import pandas as pd"
   ]
  },
  {
   "cell_type": "code",
   "execution_count": 7,
   "metadata": {},
   "outputs": [],
   "source": [
    "train = pd.read_csv('train.csv')\n",
    "test = pd.read_csv('test.csv')"
   ]
  },
  {
   "cell_type": "code",
   "execution_count": 11,
   "metadata": {},
   "outputs": [
    {
     "data": {
      "text/plain": [
       "Index(['PassengerId', 'Survived', 'Pclass', 'Name', 'Sex', 'Age', 'SibSp',\n",
       "       'Parch', 'Ticket', 'Fare', 'Cabin', 'Embarked'],\n",
       "      dtype='object')"
      ]
     },
     "execution_count": 11,
     "metadata": {},
     "output_type": "execute_result"
    }
   ],
   "source": [
    "train.columns"
   ]
  },
  {
   "cell_type": "code",
   "execution_count": 8,
   "metadata": {},
   "outputs": [
    {
     "data": {
      "text/html": [
       "<div>\n",
       "<style scoped>\n",
       "    .dataframe tbody tr th:only-of-type {\n",
       "        vertical-align: middle;\n",
       "    }\n",
       "\n",
       "    .dataframe tbody tr th {\n",
       "        vertical-align: top;\n",
       "    }\n",
       "\n",
       "    .dataframe thead th {\n",
       "        text-align: right;\n",
       "    }\n",
       "</style>\n",
       "<table border=\"1\" class=\"dataframe\">\n",
       "  <thead>\n",
       "    <tr style=\"text-align: right;\">\n",
       "      <th></th>\n",
       "      <th>PassengerId</th>\n",
       "      <th>Survived</th>\n",
       "      <th>Pclass</th>\n",
       "      <th>Name</th>\n",
       "      <th>Sex</th>\n",
       "      <th>Age</th>\n",
       "      <th>SibSp</th>\n",
       "      <th>Parch</th>\n",
       "      <th>Ticket</th>\n",
       "      <th>Fare</th>\n",
       "      <th>Cabin</th>\n",
       "      <th>Embarked</th>\n",
       "    </tr>\n",
       "  </thead>\n",
       "  <tbody>\n",
       "    <tr>\n",
       "      <th>0</th>\n",
       "      <td>1</td>\n",
       "      <td>0</td>\n",
       "      <td>3</td>\n",
       "      <td>Braund, Mr. Owen Harris</td>\n",
       "      <td>male</td>\n",
       "      <td>22.0</td>\n",
       "      <td>1</td>\n",
       "      <td>0</td>\n",
       "      <td>A/5 21171</td>\n",
       "      <td>7.2500</td>\n",
       "      <td>NaN</td>\n",
       "      <td>S</td>\n",
       "    </tr>\n",
       "    <tr>\n",
       "      <th>1</th>\n",
       "      <td>2</td>\n",
       "      <td>1</td>\n",
       "      <td>1</td>\n",
       "      <td>Cumings, Mrs. John Bradley (Florence Briggs Th...</td>\n",
       "      <td>female</td>\n",
       "      <td>38.0</td>\n",
       "      <td>1</td>\n",
       "      <td>0</td>\n",
       "      <td>PC 17599</td>\n",
       "      <td>71.2833</td>\n",
       "      <td>C85</td>\n",
       "      <td>C</td>\n",
       "    </tr>\n",
       "    <tr>\n",
       "      <th>2</th>\n",
       "      <td>3</td>\n",
       "      <td>1</td>\n",
       "      <td>3</td>\n",
       "      <td>Heikkinen, Miss. Laina</td>\n",
       "      <td>female</td>\n",
       "      <td>26.0</td>\n",
       "      <td>0</td>\n",
       "      <td>0</td>\n",
       "      <td>STON/O2. 3101282</td>\n",
       "      <td>7.9250</td>\n",
       "      <td>NaN</td>\n",
       "      <td>S</td>\n",
       "    </tr>\n",
       "    <tr>\n",
       "      <th>3</th>\n",
       "      <td>4</td>\n",
       "      <td>1</td>\n",
       "      <td>1</td>\n",
       "      <td>Futrelle, Mrs. Jacques Heath (Lily May Peel)</td>\n",
       "      <td>female</td>\n",
       "      <td>35.0</td>\n",
       "      <td>1</td>\n",
       "      <td>0</td>\n",
       "      <td>113803</td>\n",
       "      <td>53.1000</td>\n",
       "      <td>C123</td>\n",
       "      <td>S</td>\n",
       "    </tr>\n",
       "    <tr>\n",
       "      <th>4</th>\n",
       "      <td>5</td>\n",
       "      <td>0</td>\n",
       "      <td>3</td>\n",
       "      <td>Allen, Mr. William Henry</td>\n",
       "      <td>male</td>\n",
       "      <td>35.0</td>\n",
       "      <td>0</td>\n",
       "      <td>0</td>\n",
       "      <td>373450</td>\n",
       "      <td>8.0500</td>\n",
       "      <td>NaN</td>\n",
       "      <td>S</td>\n",
       "    </tr>\n",
       "  </tbody>\n",
       "</table>\n",
       "</div>"
      ],
      "text/plain": [
       "   PassengerId  Survived  Pclass  \\\n",
       "0            1         0       3   \n",
       "1            2         1       1   \n",
       "2            3         1       3   \n",
       "3            4         1       1   \n",
       "4            5         0       3   \n",
       "\n",
       "                                                Name     Sex   Age  SibSp  \\\n",
       "0                            Braund, Mr. Owen Harris    male  22.0      1   \n",
       "1  Cumings, Mrs. John Bradley (Florence Briggs Th...  female  38.0      1   \n",
       "2                             Heikkinen, Miss. Laina  female  26.0      0   \n",
       "3       Futrelle, Mrs. Jacques Heath (Lily May Peel)  female  35.0      1   \n",
       "4                           Allen, Mr. William Henry    male  35.0      0   \n",
       "\n",
       "   Parch            Ticket     Fare Cabin Embarked  \n",
       "0      0         A/5 21171   7.2500   NaN        S  \n",
       "1      0          PC 17599  71.2833   C85        C  \n",
       "2      0  STON/O2. 3101282   7.9250   NaN        S  \n",
       "3      0            113803  53.1000  C123        S  \n",
       "4      0            373450   8.0500   NaN        S  "
      ]
     },
     "execution_count": 8,
     "metadata": {},
     "output_type": "execute_result"
    }
   ],
   "source": [
    "train.head()"
   ]
  },
  {
   "cell_type": "markdown",
   "metadata": {},
   "source": [
    "# Analyzing dataframe"
   ]
  },
  {
   "cell_type": "code",
   "execution_count": 33,
   "metadata": {},
   "outputs": [
    {
     "name": "stderr",
     "output_type": "stream",
     "text": [
      "\n",
      "                                   |                         | [  0%]   00:00  -> (? left)\u001b[A\n",
      "Summarizing dataframe:             |                         | [  0%]   00:00  -> (? left)\u001b[A\n",
      ":TARGET::                          |█▌                   | [  8%]   00:00  -> (00:00 left)\u001b[A\n",
      ":TARGET::                          |███▏                 | [ 15%]   00:00  -> (00:05 left)\u001b[A\n",
      ":PassengerId:                      |███▏                 | [ 15%]   00:00  -> (00:05 left)\u001b[A\n",
      ":PassengerId:                      |████▊                | [ 23%]   00:02  -> (00:06 left)\u001b[A\n",
      ":Survived:                         |████▊                | [ 23%]   00:02  -> (00:06 left)\u001b[A\n",
      ":Survived:                         |██████▍              | [ 31%]   00:02  -> (00:05 left)\u001b[A\n",
      ":Pclass:                           |██████▍              | [ 31%]   00:02  -> (00:05 left)\u001b[A\n",
      ":Pclass:                           |████████             | [ 38%]   00:03  -> (00:04 left)\u001b[A\n",
      ":Name:                             |████████             | [ 38%]   00:03  -> (00:04 left)\u001b[A\n",
      ":Sex:                              |█████████▋           | [ 46%]   00:03  -> (00:04 left)\u001b[A\n",
      ":Sex:                              |███████████▎         | [ 54%]   00:03  -> (00:02 left)\u001b[A\n",
      ":SibSp:                            |███████████▎         | [ 54%]   00:03  -> (00:02 left)\u001b[A\n",
      ":SibSp:                            |████████████▉        | [ 62%]   00:03  -> (00:02 left)\u001b[A\n",
      ":Parch:                            |████████████▉        | [ 62%]   00:03  -> (00:02 left)\u001b[A\n",
      ":Parch:                            |██████████████▌      | [ 69%]   00:04  -> (00:02 left)\u001b[A\n",
      ":Ticket:                           |██████████████▌      | [ 69%]   00:04  -> (00:02 left)\u001b[A\n",
      ":Fare:                             |████████████████▏    | [ 77%]   00:04  -> (00:01 left)\u001b[A\n",
      ":Fare:                             |█████████████████▊   | [ 85%]   00:07  -> (00:01 left)\u001b[A\n",
      ":Cabin:                            |█████████████████▊   | [ 85%]   00:07  -> (00:01 left)\u001b[A\n",
      ":Embarked:                         |███████████████████▍ | [ 92%]   00:07  -> (00:00 left)\u001b[A\n",
      ":Embarked:                         |█████████████████████| [100%]   00:08  -> (00:00 left)\u001b[A\n",
      ":FEATURES DONE:                    |█████████████████████| [100%]   00:08  -> (00:00 left)\u001b[A\n",
      "\n",
      "                                   |                         | [  0%]   00:00  -> (? left)\u001b[A\n",
      ":Processing Pairwise Features:     |                         | [  0%]   00:00  -> (? left)\u001b[A\n",
      ":Processing Pairwise Features:     |██████████████       | [ 67%]   00:00  -> (00:00 left)\u001b[A\n",
      ":PAIRWISE DONE:                    |█████████████████████| [100%]   00:00  -> (00:00 left)\u001b[A\n"
     ]
    },
    {
     "name": "stdout",
     "output_type": "stream",
     "text": [
      "Creating Associations graph... DONE!\n"
     ]
    }
   ],
   "source": [
    "my_report = sv.analyze([train, 'Train'], target_feat = 'Age')"
   ]
  },
  {
   "cell_type": "code",
   "execution_count": 15,
   "metadata": {},
   "outputs": [],
   "source": [
    "my_report.show_html('Report.html')"
   ]
  },
  {
   "cell_type": "markdown",
   "metadata": {},
   "source": [
    "### NOTE:  You can choose target by column names"
   ]
  },
  {
   "cell_type": "markdown",
   "metadata": {},
   "source": [
    "# Comparing two subsets of the same dataframe (Male vs Female)"
   ]
  },
  {
   "cell_type": "markdown",
   "metadata": {},
   "source": [
    "<b>To compare the subsets of same dataframe:\n",
    "my_report = sv.compare_intra(my_dataframe, my_dataframe[\"Sex\"] == \"male\", [\"Male\", \"Female\"])"
   ]
  },
  {
   "cell_type": "code",
   "execution_count": 39,
   "metadata": {},
   "outputs": [
    {
     "name": "stderr",
     "output_type": "stream",
     "text": [
      "\n",
      "                                   |                         | [  0%]   00:00  -> (? left)\u001b[A\n",
      "Summarizing dataframe:             |                         | [  0%]   00:00  -> (? left)\u001b[A\n",
      ":PassengerId:                      |███▏                 | [ 15%]   00:00  -> (00:00 left)\u001b[A\n",
      ":PassengerId:                      |████▊                | [ 23%]   00:01  -> (00:03 left)\u001b[A\n",
      ":Survived:                         |████▊                | [ 23%]   00:01  -> (00:03 left)\u001b[A\n",
      ":Survived:                         |██████▍              | [ 31%]   00:01  -> (00:03 left)\u001b[A\n",
      ":Pclass:                           |██████▍              | [ 31%]   00:01  -> (00:03 left)\u001b[A\n",
      ":Pclass:                           |████████             | [ 38%]   00:01  -> (00:03 left)\u001b[A\n",
      ":Name:                             |████████             | [ 38%]   00:01  -> (00:03 left)\u001b[A\n",
      ":Sex:                              |█████████▋           | [ 46%]   00:02  -> (00:02 left)\u001b[A\n",
      ":Sex:                              |███████████▎         | [ 54%]   00:02  -> (00:02 left)\u001b[A\n",
      ":Age:                              |███████████▎         | [ 54%]   00:02  -> (00:02 left)\u001b[A\n",
      ":Age:                              |████████████▉        | [ 62%]   00:03  -> (00:03 left)\u001b[A\n",
      ":SibSp:                            |████████████▉        | [ 62%]   00:03  -> (00:03 left)\u001b[A\n",
      ":SibSp:                            |██████████████▌      | [ 69%]   00:03  -> (00:02 left)\u001b[A\n",
      ":Parch:                            |██████████████▌      | [ 69%]   00:04  -> (00:02 left)\u001b[A\n",
      ":Parch:                            |████████████████▏    | [ 77%]   00:04  -> (00:01 left)\u001b[A\n",
      ":Ticket:                           |████████████████▏    | [ 77%]   00:04  -> (00:01 left)\u001b[A\n",
      ":Ticket:                           |█████████████████▊   | [ 85%]   00:05  -> (00:01 left)\u001b[A\n",
      ":Fare:                             |█████████████████▊   | [ 85%]   00:05  -> (00:01 left)\u001b[A\n",
      ":Fare:                             |███████████████████▍ | [ 92%]   00:06  -> (00:00 left)\u001b[A\n",
      ":Cabin:                            |███████████████████▍ | [ 92%]   00:06  -> (00:00 left)\u001b[A\n",
      ":Embarked:                         |█████████████████████| [100%]   00:07  -> (00:00 left)\u001b[A\n",
      ":Embarked:                         |                     | [  0%]   00:07  -> (00:00 left)\u001b[A\n",
      ":FEATURES DONE:                    |                     | [  0%]   00:07  -> (00:00 left)\u001b[A\n",
      "\n",
      "                                   |                         | [  0%]   00:00  -> (? left)\u001b[A\n",
      ":Processing Pairwise Features:     |                         | [  0%]   00:00  -> (? left)\u001b[A\n",
      ":Processing Pairwise Features:     |██████████████       | [ 67%]   00:00  -> (00:00 left)\u001b[A\n",
      ":PAIRWISE DONE:                    |█████████████████████| [100%]   00:00  -> (00:00 left)\u001b[A\n"
     ]
    },
    {
     "name": "stdout",
     "output_type": "stream",
     "text": [
      "Creating Associations graph... DONE!\n"
     ]
    }
   ],
   "source": [
    "my_report_compare = sv.compare_intra(train, train['Sex'] == 'female', ['male', 'female'])"
   ]
  },
  {
   "cell_type": "code",
   "execution_count": 40,
   "metadata": {},
   "outputs": [],
   "source": [
    "my_report_compare.show_html('Report.html')"
   ]
  },
  {
   "cell_type": "code",
   "execution_count": null,
   "metadata": {},
   "outputs": [],
   "source": [
    "#Pairwise analysis"
   ]
  },
  {
   "cell_type": "code",
   "execution_count": 34,
   "metadata": {},
   "outputs": [
    {
     "name": "stderr",
     "output_type": "stream",
     "text": [
      "\n",
      "                                   |                         | [  0%]   00:00  -> (? left)\u001b[A\n",
      "Summarizing dataframe:             |                         | [  0%]   00:00  -> (? left)\u001b[A\n",
      ":TARGET::                          |█▌                   | [  8%]   00:00  -> (00:00 left)\u001b[A\n",
      ":TARGET::                          |███▏                 | [ 15%]   00:00  -> (00:05 left)\u001b[A\n",
      ":PassengerId:                      |███▏                 | [ 15%]   00:00  -> (00:05 left)\u001b[A\n",
      ":PassengerId:                      |████▊                | [ 23%]   00:02  -> (00:07 left)\u001b[A\n",
      ":Survived:                         |████▊                | [ 23%]   00:02  -> (00:07 left)\u001b[A\n",
      ":Survived:                         |██████▍              | [ 31%]   00:02  -> (00:05 left)\u001b[A\n",
      ":Pclass:                           |██████▍              | [ 31%]   00:02  -> (00:05 left)\u001b[A\n",
      ":Pclass:                           |████████             | [ 38%]   00:03  -> (00:04 left)\u001b[A\n",
      ":Name:                             |████████             | [ 38%]   00:03  -> (00:04 left)\u001b[A\n",
      ":Sex:                              |█████████▋           | [ 46%]   00:03  -> (00:03 left)\u001b[A\n",
      ":Sex:                              |███████████▎         | [ 54%]   00:03  -> (00:02 left)\u001b[A\n",
      ":SibSp:                            |███████████▎         | [ 54%]   00:03  -> (00:02 left)\u001b[A\n",
      ":SibSp:                            |████████████▉        | [ 62%]   00:04  -> (00:02 left)\u001b[A\n",
      ":Parch:                            |████████████▉        | [ 62%]   00:04  -> (00:02 left)\u001b[A\n",
      ":Parch:                            |██████████████▌      | [ 69%]   00:05  -> (00:02 left)\u001b[A\n",
      ":Ticket:                           |██████████████▌      | [ 69%]   00:05  -> (00:02 left)\u001b[A\n",
      ":Fare:                             |████████████████▏    | [ 77%]   00:05  -> (00:02 left)\u001b[A\n",
      ":Fare:                             |█████████████████▊   | [ 85%]   00:07  -> (00:01 left)\u001b[A\n",
      ":Cabin:                            |█████████████████▊   | [ 85%]   00:07  -> (00:01 left)\u001b[A\n",
      ":Embarked:                         |███████████████████▍ | [ 92%]   00:07  -> (00:00 left)\u001b[A\n",
      ":Embarked:                         |█████████████████████| [100%]   00:07  -> (00:00 left)\u001b[A\n",
      ":FEATURES DONE:                    |█████████████████████| [100%]   00:07  -> (00:00 left)\u001b[A\n",
      "\n",
      "                                   |                         | [  0%]   00:00  -> (? left)\u001b[A\n",
      ":Processing Pairwise Features:     |                         | [  0%]   00:00  -> (? left)\u001b[A\n",
      ":Processing Pairwise Features:     |██████████████       | [ 67%]   00:00  -> (00:00 left)\u001b[A\n",
      ":PAIRWISE DONE:                    |█████████████████████| [100%]   00:00  -> (00:00 left)\u001b[A\n"
     ]
    },
    {
     "name": "stdout",
     "output_type": "stream",
     "text": [
      "Creating Associations graph... DONE!\n"
     ]
    }
   ],
   "source": [
    "my_report2 = sv.analyze([train, 'Train'], target_feat = 'Age', pairwise_analysis= 'on')"
   ]
  },
  {
   "cell_type": "code",
   "execution_count": 22,
   "metadata": {},
   "outputs": [],
   "source": [
    "my_report2.show_html('Report2.html')"
   ]
  },
  {
   "cell_type": "markdown",
   "metadata": {},
   "source": [
    "# Comparing two dataframes (Test vs Training sets)"
   ]
  },
  {
   "cell_type": "markdown",
   "metadata": {},
   "source": [
    "To Compare the two data sets:\n",
    "my_report = sv.compare([my_dataframe, \"Training Data\"], [test_df, \"Test Data\"], \"Survived\")"
   ]
  },
  {
   "cell_type": "code",
   "execution_count": 31,
   "metadata": {},
   "outputs": [
    {
     "name": "stderr",
     "output_type": "stream",
     "text": [
      "\n",
      "                                   |                         | [  0%]   00:00  -> (? left)\u001b[A\n",
      "Summarizing dataframe:             |                         | [  0%]   00:00  -> (? left)\u001b[A\n",
      ":TARGET::                          |█▌                   | [  8%]   00:00  -> (00:00 left)\u001b[A\n",
      ":TARGET::                          |███▏                 | [ 15%]   00:00  -> (00:01 left)\u001b[A\n",
      ":PassengerId:                      |███▏                 | [ 15%]   00:00  -> (00:01 left)\u001b[A\n",
      ":PassengerId:                      |████▊                | [ 23%]   00:01  -> (00:05 left)\u001b[A\n",
      ":Pclass:                           |████▊                | [ 23%]   00:01  -> (00:05 left)\u001b[A\n",
      ":Pclass:                           |██████▍              | [ 31%]   00:02  -> (00:04 left)\u001b[A\n",
      ":Name:                             |██████▍              | [ 31%]   00:02  -> (00:04 left)\u001b[A\n",
      ":Sex:                              |████████             | [ 38%]   00:02  -> (00:03 left)\u001b[A\n",
      ":Sex:                              |█████████▋           | [ 46%]   00:02  -> (00:02 left)\u001b[A\n",
      ":Age:                              |█████████▋           | [ 46%]   00:02  -> (00:02 left)\u001b[A\n",
      ":Age:                              |███████████▎         | [ 54%]   00:04  -> (00:04 left)\u001b[A\n",
      ":SibSp:                            |███████████▎         | [ 54%]   00:04  -> (00:04 left)\u001b[A\n",
      ":SibSp:                            |████████████▉        | [ 62%]   00:04  -> (00:03 left)\u001b[A\n",
      ":Parch:                            |████████████▉        | [ 62%]   00:04  -> (00:03 left)\u001b[A\n",
      ":Parch:                            |██████████████▌      | [ 69%]   00:05  -> (00:02 left)\u001b[A\n",
      ":Ticket:                           |██████████████▌      | [ 69%]   00:05  -> (00:02 left)\u001b[A\n",
      ":Fare:                             |████████████████▏    | [ 77%]   00:05  -> (00:01 left)\u001b[A\n",
      ":Fare:                             |█████████████████▊   | [ 85%]   00:06  -> (00:01 left)\u001b[A\n",
      ":Cabin:                            |█████████████████▊   | [ 85%]   00:06  -> (00:01 left)\u001b[A\n",
      ":Embarked:                         |███████████████████▍ | [ 92%]   00:06  -> (00:00 left)\u001b[A\n",
      ":Embarked:                         |█████████████████████| [100%]   00:07  -> (00:00 left)\u001b[A\n",
      ":FEATURES DONE:                    |█████████████████████| [100%]   00:07  -> (00:00 left)\u001b[A\n",
      "\n",
      "                                   |                         | [  0%]   00:00  -> (? left)\u001b[A\n",
      ":Processing Pairwise Features:     |                         | [  0%]   00:00  -> (? left)\u001b[A\n",
      ":Processing Pairwise Features:     |████████████▎        | [ 58%]   00:00  -> (00:00 left)\u001b[A\n",
      ":PAIRWISE DONE:                    |█████████████████████| [100%]   00:00  -> (00:00 left)\u001b[A\n"
     ]
    },
    {
     "name": "stdout",
     "output_type": "stream",
     "text": [
      "Creating Associations graph... DONE!\n"
     ]
    }
   ],
   "source": [
    "my_report3 = sweetviz.compare([train, 'Train'], [test, 'Test'], 'Survived')"
   ]
  },
  {
   "cell_type": "code",
   "execution_count": 27,
   "metadata": {},
   "outputs": [],
   "source": [
    "my_report3.show_html(\"Report3.html\")"
   ]
  },
  {
   "cell_type": "markdown",
   "metadata": {},
   "source": [
    "## My Reviews On Sweetviz"
   ]
  },
  {
   "cell_type": "markdown",
   "metadata": {},
   "source": [
    "After reading its whole document and implementing it on 'Titanic' dataset I must say it is the best library for EDA. But it can include more features like comparing two columns of same dataframe which makes task more easier for the users. But at the end it is a great tool for EDA because it provides reports of the data in single line of code."
   ]
  },
  {
   "cell_type": "code",
   "execution_count": null,
   "metadata": {},
   "outputs": [],
   "source": []
  }
 ],
 "metadata": {
  "kernelspec": {
   "display_name": "Python 3",
   "language": "python",
   "name": "python3"
  },
  "language_info": {
   "codemirror_mode": {
    "name": "ipython",
    "version": 3
   },
   "file_extension": ".py",
   "mimetype": "text/x-python",
   "name": "python",
   "nbconvert_exporter": "python",
   "pygments_lexer": "ipython3",
   "version": "3.7.4"
  },
  "toc": {
   "base_numbering": 1,
   "nav_menu": {},
   "number_sections": false,
   "sideBar": true,
   "skip_h1_title": false,
   "title_cell": "Table of Contents",
   "title_sidebar": "Contents",
   "toc_cell": false,
   "toc_position": {},
   "toc_section_display": true,
   "toc_window_display": false
  }
 },
 "nbformat": 4,
 "nbformat_minor": 4
}
